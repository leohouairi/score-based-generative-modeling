{
 "cells": [
  {
   "cell_type": "code",
   "execution_count": null,
   "id": "4d38e0bc-2200-4a75-a48f-0b903ec19e7a",
   "metadata": {
    "tags": []
   },
   "outputs": [],
   "source": [
    "!pip install -r \"../requirements.txt\""
   ]
  },
  {
   "cell_type": "code",
   "execution_count": null,
   "id": "8f929601-ef88-4f16-95f8-8524511ed4f9",
   "metadata": {
    "tags": []
   },
   "outputs": [],
   "source": [
    "import pandas as pd\n",
    "from PIL import Image\n",
    "from io import BytesIO\n",
    "import torchvision.transforms as transforms"
   ]
  },
  {
   "cell_type": "code",
   "execution_count": null,
   "id": "f23f5202-d9d9-4468-964a-d602374e3fa2",
   "metadata": {
    "tags": []
   },
   "outputs": [],
   "source": [
    "df = pd.read_parquet(\"https://huggingface.co/datasets/0xJustin/Dungeons-and-Diffusion/resolve/main/data/train-00000-of-00001-9b40395dcd3257f2.parquet\")"
   ]
  },
  {
   "cell_type": "code",
   "execution_count": null,
   "id": "d5f1af5e-ffb9-4ff8-80db-4bdf4a762f81",
   "metadata": {
    "tags": []
   },
   "outputs": [],
   "source": [
    "#im = Image.open(BytesIO(df.iloc[12].image['bytes']))"
   ]
  },
  {
   "cell_type": "code",
   "execution_count": null,
   "id": "fc1dfe44-a484-42ec-bd79-305bd833f1d9",
   "metadata": {
    "tags": []
   },
   "outputs": [],
   "source": [
    "# Define a transform to convert PIL \n",
    "# image to a Torch tensor\n",
    "transform = transforms.Compose([\n",
    "    transforms.PILToTensor()\n",
    "])"
   ]
  },
  {
   "cell_type": "code",
   "execution_count": null,
   "id": "7ab27a82-6757-4190-b1b6-6bb9b589eb52",
   "metadata": {
    "tags": []
   },
   "outputs": [],
   "source": [
    "df['image_tensor']=df['image'].apply(lambda x : transform(Image.open(BytesIO(x['bytes']))))"
   ]
  },
  {
   "cell_type": "code",
   "execution_count": null,
   "id": "cb54bda9-9e74-4099-9362-4ad0717f0fdb",
   "metadata": {
    "tags": []
   },
   "outputs": [],
   "source": [
    "#df[['image_tensor','text']].to_parquet(\"heroic_dataset.parquet\")"
   ]
  }
 ],
 "metadata": {
  "kernelspec": {
   "display_name": "Python 3 (ipykernel)",
   "language": "python",
   "name": "python3"
  },
  "language_info": {
   "codemirror_mode": {
    "name": "ipython",
    "version": 3
   },
   "file_extension": ".py",
   "mimetype": "text/x-python",
   "name": "python",
   "nbconvert_exporter": "python",
   "pygments_lexer": "ipython3",
   "version": "3.10.9"
  }
 },
 "nbformat": 4,
 "nbformat_minor": 5
}
